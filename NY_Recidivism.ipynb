{
 "cells": [
  {
   "cell_type": "code",
   "execution_count": 1,
   "metadata": {},
   "outputs": [
    {
     "name": "stdout",
     "output_type": "stream",
     "text": [
      "<class 'pandas.core.frame.DataFrame'>\n",
      "RangeIndex: 123588 entries, 0 to 123587\n",
      "Data columns (total 5 columns):\n",
      "Release Year            123588 non-null int64\n",
      "County of Indictment    123588 non-null object\n",
      "Gender                  123588 non-null object\n",
      "Age at Release          123588 non-null int64\n",
      "Return Status           123588 non-null object\n",
      "dtypes: int64(2), object(3)\n",
      "memory usage: 4.7+ MB\n"
     ]
    }
   ],
   "source": [
    "import pandas as pd\n",
    "import pandas_profiling\n",
    "import matplotlib.pyplot as plt\n",
    "\n",
    "data = pd.read_csv(r'C:\\Users\\tpur9\\Desktop\\Data Science\\Recidivism_Tutorial\\Recidivism__Beginning_2008.csv')\n",
    "data.info()\n"
   ]
  },
  {
   "cell_type": "code",
   "execution_count": 2,
   "metadata": {},
   "outputs": [
    {
     "data": {
      "text/html": [
       "<div>\n",
       "<style scoped>\n",
       "    .dataframe tbody tr th:only-of-type {\n",
       "        vertical-align: middle;\n",
       "    }\n",
       "\n",
       "    .dataframe tbody tr th {\n",
       "        vertical-align: top;\n",
       "    }\n",
       "\n",
       "    .dataframe thead th {\n",
       "        text-align: right;\n",
       "    }\n",
       "</style>\n",
       "<table border=\"1\" class=\"dataframe\">\n",
       "  <thead>\n",
       "    <tr style=\"text-align: right;\">\n",
       "      <th></th>\n",
       "      <th>Release Year</th>\n",
       "      <th>Age at Release</th>\n",
       "    </tr>\n",
       "  </thead>\n",
       "  <tbody>\n",
       "    <tr>\n",
       "      <th>count</th>\n",
       "      <td>123588.000000</td>\n",
       "      <td>123588.000000</td>\n",
       "    </tr>\n",
       "    <tr>\n",
       "      <th>mean</th>\n",
       "      <td>2009.932097</td>\n",
       "      <td>35.312029</td>\n",
       "    </tr>\n",
       "    <tr>\n",
       "      <th>std</th>\n",
       "      <td>1.419576</td>\n",
       "      <td>10.798967</td>\n",
       "    </tr>\n",
       "    <tr>\n",
       "      <th>min</th>\n",
       "      <td>2008.000000</td>\n",
       "      <td>16.000000</td>\n",
       "    </tr>\n",
       "    <tr>\n",
       "      <th>25%</th>\n",
       "      <td>2009.000000</td>\n",
       "      <td>26.000000</td>\n",
       "    </tr>\n",
       "    <tr>\n",
       "      <th>50%</th>\n",
       "      <td>2010.000000</td>\n",
       "      <td>34.000000</td>\n",
       "    </tr>\n",
       "    <tr>\n",
       "      <th>75%</th>\n",
       "      <td>2011.000000</td>\n",
       "      <td>43.000000</td>\n",
       "    </tr>\n",
       "    <tr>\n",
       "      <th>max</th>\n",
       "      <td>2012.000000</td>\n",
       "      <td>100.000000</td>\n",
       "    </tr>\n",
       "  </tbody>\n",
       "</table>\n",
       "</div>"
      ],
      "text/plain": [
       "        Release Year  Age at Release\n",
       "count  123588.000000   123588.000000\n",
       "mean     2009.932097       35.312029\n",
       "std         1.419576       10.798967\n",
       "min      2008.000000       16.000000\n",
       "25%      2009.000000       26.000000\n",
       "50%      2010.000000       34.000000\n",
       "75%      2011.000000       43.000000\n",
       "max      2012.000000      100.000000"
      ]
     },
     "execution_count": 2,
     "metadata": {},
     "output_type": "execute_result"
    }
   ],
   "source": [
    "data.describe()"
   ]
  },
  {
   "cell_type": "code",
   "execution_count": 3,
   "metadata": {},
   "outputs": [
    {
     "name": "stdout",
     "output_type": "stream",
     "text": [
      "Release Year            51111\n",
      "County of Indictment    51111\n",
      "Gender                  51111\n",
      "Age at Release          51111\n",
      "Return Status           51111\n",
      "dtype: int64\n"
     ]
    },
    {
     "data": {
      "image/png": "[encoded data removed]",
      "text/plain": [
       "<Figure size 432x288 with 1 Axes>"
      ]
     },
     "metadata": {
      "needs_background": "light"
     },
     "output_type": "display_data"
    }
   ],
   "source": [
    "reoffender_data = data[data['Return Status'] != 'Not Returned']\n",
    "#finds data where those that were not repeat offenders are not taken into account.\n",
    "print (reoffender_data.count())\n",
    "plt.hist(reoffender_data['Age at Release'], label = ['Reoffender Age at Release'], bins = 20)\n",
    "#This is the column we want the graph to be in reference to\n",
    "plt.xlabel('Age at Release')\n",
    "#Age bins will be across the bottom\n",
    "plt.ylabel('Count')\n",
    "#Number of each age will be along the left(y) axis\n",
    "plt.legend(loc='upper right')\n",
    "#Refers back to label designated in the plt.hist() command, places it in the upper right\n",
    "plt.show()"
   ]
  },
  {
   "cell_type": "code",
   "execution_count": 5,
   "metadata": {},
   "outputs": [
    {
     "name": "stdout",
     "output_type": "stream",
     "text": [
      "Release Year            2238\n",
      "County of Indictment    2238\n",
      "Gender                  2238\n",
      "Age at Release          2238\n",
      "Return Status           2238\n",
      "dtype: int64\n"
     ]
    },
    {
     "data": {
      "image/png": "[encoded data removed]",
      "text/plain": [
       "<Figure size 432x288 with 1 Axes>"
      ]
     },
     "metadata": {
      "needs_background": "light"
     },
     "output_type": "display_data"
    }
   ],
   "source": [
    "female_only_reoffender_data = data[(data['Gender'] == 'FEMALE') & (data['Return Status'] != 'Not Returned')]\n",
    "print (female_only_reoffender_data.count())\n",
    "plt.hist(female_only_reoffender_data['Age at Release'], label = ['Reoffender Age at Release'], bins = 20)\n",
    "plt.xlabel('Age at Release')\n",
    "plt.ylabel('Count')\n",
    "plt.legend(loc = 'upper right')\n",
    "plt.show()"
   ]
  },
  {
   "cell_type": "code",
   "execution_count": 4,
   "metadata": {},
   "outputs": [
    {
     "name": "stdout",
     "output_type": "stream",
     "text": [
      "Release Year            48873\n",
      "County of Indictment    48873\n",
      "Gender                  48873\n",
      "Age at Release          48873\n",
      "Return Status           48873\n",
      "dtype: int64\n"
     ]
    },
    {
     "data": {
      "image/png": "[encoded data removed]",
      "text/plain": [
       "<Figure size 432x288 with 1 Axes>"
      ]
     },
     "metadata": {
      "needs_background": "light"
     },
     "output_type": "display_data"
    }
   ],
   "source": [
    "male_only_reoffender_data = data[(data['Gender'] == 'MALE') & (data['Return Status'] != 'Not Returned')]\n",
    "print (male_only_reoffender_data.count())\n",
    "plt.hist(male_only_reoffender_data['Age at Release'], label = ['Reoffender Age at Release'], bins = 20)\n",
    "plt.xlabel ('Age at Release')\n",
    "plt.ylabel ('Count')\n",
    "plt.legend(loc = 'upper right')\n",
    "plt.show()"
   ]
  },
  {
   "cell_type": "code",
   "execution_count": null,
   "metadata": {},
   "outputs": [],
   "source": []
  }
 ],
 "metadata": {
  "kernelspec": {
   "display_name": "Python 3",
   "language": "python",
   "name": "python3"
  },
  "language_info": {
   "codemirror_mode": {
    "name": "ipython",
    "version": 3
   },
   "file_extension": ".py",
   "mimetype": "text/x-python",
   "name": "python",
   "nbconvert_exporter": "python",
   "pygments_lexer": "ipython3",
   "version": "3.7.3"
  }
 },
 "nbformat": 4,
 "nbformat_minor": 2
}
